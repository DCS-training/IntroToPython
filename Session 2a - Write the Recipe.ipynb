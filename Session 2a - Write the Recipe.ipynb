{
 "cells": [
  {
   "cell_type": "markdown",
   "metadata": {},
   "source": [
    "# CDCS Training Programme\n",
    "# Introduction to Python\n",
    "## Session 2a: Write the Recipe"
   ]
  },
  {
   "cell_type": "markdown",
   "metadata": {},
   "source": [
    "--------------------\n",
    "\n",
    "### Learning objectives for this session:\n",
    "\n",
    "At the end of this notebook you will know:\n",
    "\n",
    "- How to imagine order of executing code.\n",
    "- Functions are shortcuts to repeat parts of your code easilly.\n",
    "- What it means for code to be 'DRY'. \n",
    "- Function parameters, and how to use them."
   ]
  },
  {
   "cell_type": "markdown",
   "metadata": {},
   "source": [
    "--------------------\n",
    "\n",
    "## 1. Imagining the order of code execution\n",
    "\n",
    "Whilst we have learnt that code is executed from the top to the bottom, it may not be so obvious how code runs when it is all in one line. This is something we need to master first before learning about functions."
   ]
  },
  {
   "cell_type": "code",
   "execution_count": null,
   "metadata": {},
   "outputs": [],
   "source": [
    "# Think about the order in which a computer needs to find answers to some questions.\n",
    "# In order to then seek answers to other questions\n",
    "\n",
    "# E.g. you need to know what int(\"20\") is before you can add it to 20.\n",
    "# And only once you add them you can print the result.\n",
    "\n",
    "print( int(\"20\") + 20)"
   ]
  },
  {
   "cell_type": "code",
   "execution_count": null,
   "metadata": {},
   "outputs": [],
   "source": [
    "# Same here. As a human, which parts would you have to solve first?\n",
    "# try to solve it before you run the code. What's the result you expect?\n",
    "\n",
    "print( (20 + 50) / 7 == (1+4) * (9-7))"
   ]
  },
  {
   "cell_type": "markdown",
   "metadata": {},
   "source": [
    "\n",
    "Imagine that in each cycle one operation is REPLACED with the result of that operation. Code is always run from the **MOST INSIDE** operation. Consider the Russian Doll, or an avocado. It is always the thing on the very inside which you deal with first."
   ]
  },
  {
   "cell_type": "code",
   "execution_count": null,
   "metadata": {},
   "outputs": [],
   "source": [
    "# You will learn about functions soon, but notice that what this code does.\n",
    "# You always evaluate the code from the current MOST INSIDE operation.\n",
    "# Evaluated code is sort-of replaces with its result.\n",
    "\n",
    "print(\"year \" + str( int(\"20\"+\"23\") + 1) )"
   ]
  },
  {
   "cell_type": "code",
   "execution_count": null,
   "metadata": {},
   "outputs": [],
   "source": [
    "# In short, the code is run from the inside to the outside.\n",
    "# And commands are basically REPLACED with their result.\n",
    "# Below is an attempt on simulating, one step at a time, how the computer thinks:\n",
    "\n",
    "print(\"year \" +  str( int(\"20\"+\"23\") + 1) )\n",
    "print(\"year \" +  str( int(\"2023\"   ) + 1) )\n",
    "print(\"year \" +  str( 2023           + 1) )\n",
    "print(\"year \" +  str( 2024              ) )\n",
    "print(\"year \" +  \"2024\"                   )\n",
    "print(\"year 2024\"                         )\n",
    "\"year 2024\""
   ]
  },
  {
   "cell_type": "code",
   "execution_count": null,
   "metadata": {},
   "outputs": [],
   "source": [
    "# but if the code was like this, why is the result different? \n",
    "# try to figure it out by yourself before running the code!\n",
    "\n",
    "print(\"year \" + str( int(\"20\")+int(\"23\") + 1) )"
   ]
  },
  {
   "cell_type": "code",
   "execution_count": null,
   "metadata": {},
   "outputs": [],
   "source": [
    "# can you break it down below, into steps like we did above?"
   ]
  },
  {
   "cell_type": "markdown",
   "metadata": {},
   "source": [
    "----------\n",
    "\n",
    "## 2. Functions, one of the most important tools in programming."
   ]
  },
  {
   "cell_type": "markdown",
   "metadata": {},
   "source": [
    "We often come across situations whereby we wish to re-use some code that we make. Maybe this is because it was really helpful in what it does, or perhaps we have to repeat the procedure of our code over and over with a small subtle difference. A **FUNCTION** is a piece of code that we want to reuse later. \n",
    "\n",
    "We give each function a short name, so that we can easily run them (make them happen). \n",
    "There is a difference between DEFINING a function - specifying which lines of code we want to reuse, and CALLING a function - making these lines of code happen.\n",
    "\n",
    "At a simplest level, a function is a shortcut to some code we wrote before, that we want to use later on. Like using a key that opens a toolbox, to access tools that you've previously build. \n",
    "\n",
    "**DEFINING A FUNCTION**: To define, create or specify a function we mark some lines of code and give it a name. \n",
    "Note that this will not run the lines of code, because when we define a function, we specify that we would like to execute it later."
   ]
  },
  {
   "cell_type": "code",
   "execution_count": null,
   "metadata": {},
   "outputs": [],
   "source": [
    "# Define a function:\n",
    "\n",
    "def my_function_name():\n",
    "    print(\"Function is running!\")\n",
    "    print(\"Things are happening!\")\n",
    "\n",
    "    # Some code we will reuse later.\n",
    "    # Note: this code is not executed yet."
   ]
  },
  {
   "cell_type": "markdown",
   "metadata": {},
   "source": [
    "**RUNNING (or CALLING) A FUNCTION**: Once a function is defined, we can call (run, evaluate) that function by writing its name followed by a (). That will cause all the lines of code inside of a function to be executed."
   ]
  },
  {
   "cell_type": "code",
   "execution_count": null,
   "metadata": {},
   "outputs": [],
   "source": [
    "# Call a function:\n",
    "\n",
    "my_function_name() # Only now code inside of the function will be executed."
   ]
  },
  {
   "cell_type": "markdown",
   "metadata": {},
   "source": [
    "Here is another example where we both define and call a function:"
   ]
  },
  {
   "cell_type": "code",
   "execution_count": null,
   "metadata": {},
   "outputs": [],
   "source": [
    "# Defining a function:\n",
    "\n",
    "def make_some_tea(): \n",
    "    print(\"Boil Water\")\n",
    "    print(\"Put a teabag in a mug\")\n",
    "    print(\"Put water in a mug\")\n",
    "    print(\"...wait\")\n",
    "    print()\n",
    "    \n",
    "# Calling a function:\n",
    "# We can do it multiple times, if we want to!\n",
    "\n",
    "make_some_tea()\n",
    "make_some_tea()\n",
    "make_some_tea()"
   ]
  },
  {
   "cell_type": "markdown",
   "metadata": {},
   "source": [
    "Once a function is defined it can be run many times.\n",
    "\n",
    "One way to understand the difference between defining a function and calling it is:\n",
    "\n",
    "- Defining a function is like writing a recipe for a cake: You specify all the ingredients, steps, tools you will need. But you do not actually bake the cake yet i.e the lines of code are not actually executed/run.\n",
    "\n",
    "- Running a function is like using the recipe to bake the cake: You can bake a cake from the same recipe many times. You can even pass in some unique attributes to each cake, like different toppings or flavours."
   ]
  },
  {
   "cell_type": "code",
   "execution_count": null,
   "metadata": {},
   "outputs": [],
   "source": [
    "def start_a_conversation():\n",
    "    print(\"Hello!\")\n",
    "    print(\"How are you doing?\")\n",
    "    print(\"Have you seen my igloo?\")\n",
    "    print()\n",
    "\n",
    "# Notice that when you run this code, nothing happens.\n",
    "# You defined a function, but you did not call it yet."
   ]
  },
  {
   "cell_type": "code",
   "execution_count": null,
   "metadata": {},
   "outputs": [],
   "source": [
    "def start_a_conversation():\n",
    "    print(\"Hello!\")\n",
    "    print(\"How are you doing?\")\n",
    "    print(\"Have you seen my igloo?\")\n",
    "    print()\n",
    "\n",
    "# You can call the function many times, reusing the code, and needing to type less.\n",
    "\n",
    "start_a_conversation()\n",
    "start_a_conversation()\n",
    "start_a_conversation()"
   ]
  },
  {
   "cell_type": "markdown",
   "metadata": {},
   "source": [
    "---------\n",
    "\n",
    "## 3. \"DRY\" code means \"Don't Repeat Yourself\""
   ]
  },
  {
   "cell_type": "markdown",
   "metadata": {},
   "source": [
    "When you write code your ambition is to type as little as possible. That means that when you see some code repeated more than 2-3 times, you should try to OPTIMISE it by writing it in a simpler, more efficient form.\n",
    "\n",
    "From now on you will notice that some code you write is just a repetition. And sometimes (within reason!) you might want to shorten in. See the example below:"
   ]
  },
  {
   "cell_type": "code",
   "execution_count": null,
   "metadata": {},
   "outputs": [],
   "source": [
    "# Basic functions are easy to use when you would like to repeat something many times.\n",
    "# For example this to repeat a greeting 4 times. \n",
    "\n",
    "# NOT DRY:\n",
    "\n",
    "print(\"Friend! How are you? It is great to see you again!\")\n",
    "print(\"Friend! How are you? It is great to see you again!\")\n",
    "print(\"Friend! How are you? It is great to see you again!\")\n",
    "print(\"Friend! How are you? It is great to see you again!\")"
   ]
  },
  {
   "cell_type": "code",
   "execution_count": null,
   "metadata": {},
   "outputs": [],
   "source": [
    "# You could simplify/organise it better, like this:\n",
    "\n",
    "# DRY:\n",
    "\n",
    "def greet():\n",
    "    print(\"Friend! How are you? It is great to see you again!\")\n",
    "    \n",
    "greet()\n",
    "greet()\n",
    "greet()\n",
    "greet()\n",
    "\n",
    "# Your code is cleaner, but the greatest strength shows us when you need to change something in your code..."
   ]
  },
  {
   "cell_type": "markdown",
   "metadata": {},
   "source": [
    "**DRY CODE IS EASIER TO MAINTAIN** (to edit later). Imagine that in the above example you want to change a single word in your greeting to ``` It is FANTASTIC to see you again!```. In the not dry example you would need to change it in 4 places, in the dry example above you only need to change it in one place. This already saves you some time! Now imagine the first example had 100 repeated lines, or 1000 repeated lines!"
   ]
  },
  {
   "cell_type": "code",
   "execution_count": null,
   "metadata": {},
   "outputs": [],
   "source": [
    "def greet():\n",
    "    print(\"PAL! How are you? It is FANTASTIC to see you again!\") \n",
    "    # We only had to change this one line of code, not 4 lines.\n",
    "    \n",
    "greet()\n",
    "greet()\n",
    "greet()\n",
    "greet()"
   ]
  },
  {
   "cell_type": "markdown",
   "metadata": {},
   "source": [
    "-------\n",
    "\n",
    "## 4. Creating parameters for functions."
   ]
  },
  {
   "cell_type": "markdown",
   "metadata": {},
   "source": [
    "Functions can do much more than what we have seen them. Consider we want to make the below code DRY. In the below example, the lines of code are very similar but are NOT IDENTICAL. That means that we can't just extract them into a function like we did above."
   ]
  },
  {
   "cell_type": "code",
   "execution_count": null,
   "metadata": {
    "scrolled": true
   },
   "outputs": [],
   "source": [
    "print(\"Ingrid! How are you? It is great to see you again!\")\n",
    "print(\"Shri! How are you? It is great to see you again!\")\n",
    "print(\"Ainsley! How are you? It is great to see you again!\")\n",
    "print(\"Eli! How are you? It is great to see you again!\")"
   ]
  },
  {
   "cell_type": "markdown",
   "metadata": {},
   "source": [
    "**REUSING CODE**: To reuse or repeat some functionality we need to identify what parts of it change, and what parts of it don't change. \n",
    "Most of the time when creating a function the challange is to identify which parts of your code are REUSED (they do not change) and which are VARIABLE (they change).\n",
    "\n",
    "You probably see that most of the code above is repeated, but in each line, there is a small element that is different.\n",
    "\n",
    "In the above example this part IS NOT CHANGING: \n",
    "\n",
    "```print(\"###! How are you? It is great to see you again!\")``` \n",
    "\n",
    "while the name of our friend IS CHANGING: \n",
    "\n",
    "```Ingrid Shri Ainsley Eli```.\n",
    "\n",
    "Imagine rewriting above code with friend names as variables:"
   ]
  },
  {
   "cell_type": "code",
   "execution_count": null,
   "metadata": {},
   "outputs": [],
   "source": [
    "# This produces the same outcome as above code. Have an exact look at what is happeninbg there.\n",
    "\n",
    "name = \"Ingrid\"\n",
    "print(name + \"! How are you? It is great to see you again!\") # This is repeated.\n",
    "name = \"Shri\"\n",
    "print(name + \"! How are you? It is great to see you again!\") # This is repeated.\n",
    "name = \"Ainsley\"\n",
    "print(name + \"! How are you? It is great to see you again!\") # This is repeated.\n",
    "name = \"Eli\"\n",
    "print(name + \"! How are you? It is great to see you again!\") # This is repeated."
   ]
  },
  {
   "cell_type": "markdown",
   "metadata": {},
   "source": [
    "Do you see how much of the code can now be reused? Now every second line is identical. Functions become an increadibly powerful concept when we tell them to not only repeat some code, but to repeat it with small differences.\n",
    "\n",
    "For example: We can create a function that helps us to reuse some parts of the above code.\n",
    "\n",
    "Like when we used 'name', as a changeable piece of code, we will pass a variable ('name_of_a_friend') into our function. \n",
    "\n",
    "Now we can control the changes to the outcome each time we call the function, without so many repeated parts of code. "
   ]
  },
  {
   "cell_type": "code",
   "execution_count": null,
   "metadata": {},
   "outputs": [],
   "source": [
    " # name or name_of_a_friend or whatever you call it, is the changing (aka. 'variable') part from above.\n",
    "    \n",
    "def greet(name):\n",
    "    print(name + \"! How are you? It is great to see you again!\") # This is repeated bit, do you see?\n",
    "    # This is the repeated part from above.\n",
    "\n",
    "greet(\"Ingrid\")\n",
    "greet(\"Shri\")\n",
    "greet(\"Ainsley\")\n",
    "greet(\"Eli\")\n",
    "\n",
    "# When we call a function that takes some variables, we can reuse the code we specified above.\n",
    "# But we can also do it in a given context - with some elements changing."
   ]
  },
  {
   "cell_type": "code",
   "execution_count": null,
   "metadata": {},
   "outputs": [],
   "source": [
    "# Another simple example:\n",
    "\n",
    "def say_it_twice(something):\n",
    "    print(something + something)\n",
    "    print(\"yay! I said it twice!\")\n",
    "\n",
    "say_it_twice(\"Penguin\")\n",
    "say_it_twice(\"Igloo\")\n",
    "say_it_twice(\"Whale\")"
   ]
  },
  {
   "cell_type": "markdown",
   "metadata": {},
   "source": [
    "**FUNCTION PARAMETERS**: Variables (things that change) that we pass into a function are called function parameters (things that you adjust). Parameters are something we do all the time in our daily life, whenever we repeat a familiar activity with some small element of it changing."
   ]
  },
  {
   "cell_type": "code",
   "execution_count": null,
   "metadata": {},
   "outputs": [],
   "source": [
    "def read_time(time):\n",
    "    print(\"time is \"+ time)\n",
    "\n",
    "read_time(\"14:30\")\n",
    "read_time(\"20:05\")\n",
    "read_time(\"23:33\")"
   ]
  },
  {
   "cell_type": "markdown",
   "metadata": {},
   "source": [
    "Sometimes **PARAMETERS** are also called **ATTRIBUTES**.\n",
    "\n",
    "Sometimes **FUNCTIONS** are also called **METHODS**.\n",
    "\n",
    "However, it **REALLY does not matter** what you call them. Even people with years of experience confuse those two terms, so I would not bother to clarify the exact differences. It's a bit like **folder** and **directory** on your computer. There is technically a difference between them, but people use them as synonyms."
   ]
  },
  {
   "cell_type": "code",
   "execution_count": null,
   "metadata": {},
   "outputs": [],
   "source": [
    "# Functions can have more than one parameter. \n",
    "# (we're back to our example above. Notice that attribute names can be called whatever you want!)\n",
    "\n",
    "def greet(name_of_a_friend, mood):\n",
    "    print(name_of_a_friend + \"! How are you? It is \" + mood + \" to see you again!\")\n",
    "\n",
    "greet(\"Ingrid\", \"great\")\n",
    "greet(\"Shri\", \"fantastic\")\n",
    "greet(\"Ainsley\", \"glorious\")\n",
    "greet(\"Eli\", \"splendid\")"
   ]
  },
  {
   "cell_type": "code",
   "execution_count": null,
   "metadata": {},
   "outputs": [],
   "source": [
    "def greet(name_of_a_friend, time_of_day):\n",
    "    print(name_of_a_friend + \"! Good \" + time_of_day + \"!\")\n",
    "\n",
    "greet(\"Ingrid\", \"morning\")\n",
    "greet(\"Shri\", \"evening\")\n",
    "greet(\"Ainsley\", \"morning\")\n",
    "greet(\"Eli\", \"afternoon\")"
   ]
  },
  {
   "cell_type": "markdown",
   "metadata": {},
   "source": [
    "Did you notice we 'over-wrote' or 're-define' the function called `greet()` ? It means that when you define another function of the same name, python forgets what it used to do and takes on the new definition.\n",
    "\n",
    "So when you call `greet(\"Eli\", \"great\")` will you get \n",
    "\n",
    "`Eli! How are you? It is great to see you again!`\n",
    "\n",
    "or \n",
    "\n",
    "`Eli! Good great!`\n",
    "\n",
    "try it below:"
   ]
  },
  {
   "cell_type": "code",
   "execution_count": null,
   "metadata": {},
   "outputs": [],
   "source": [
    "greet(\"Eli\", \"great\")"
   ]
  },
  {
   "cell_type": "markdown",
   "metadata": {},
   "source": [
    "Passing arguments into a function is something we do a lot in our daily life. Arguments can be of different type: \n",
    "\n",
    "```string - \"a\"```, \n",
    "\n",
    "```int - 1```, \n",
    "\n",
    "```float - 2.4```,\n",
    "\n",
    "but remember to change numbers into 'strings' before adding them into other strings."
   ]
  },
  {
   "cell_type": "code",
   "execution_count": null,
   "metadata": {},
   "outputs": [],
   "source": [
    "def order_coffee(size, number_of_sugars, type_of_milk):\n",
    "    print(\"Here's a \"+size+\" coffee with \"+str(number_of_sugars)+\" sugars and \"+type_of_milk+\" milk\")\n",
    "\n",
    "order_coffee(\"large\", 3, \"oat\")\n",
    "order_coffee(\"small\", \"no\", \"no\") # This middle string will also be put through str(), it is unaltered.\n",
    "order_coffee(\"filter\", \"2 brown\", \"skimmed\")"
   ]
  },
  {
   "cell_type": "markdown",
   "metadata": {},
   "source": [
    "WATCH OUT: You can pass any number of attributes into a function but it's important not to confuse the order, or you will end up with unexpected results."
   ]
  },
  {
   "cell_type": "code",
   "execution_count": null,
   "metadata": {},
   "outputs": [],
   "source": [
    "def order_coffee(size, number_of_sugars, type_of_milk):\n",
    "    print(\"Here's a \"+size+\" coffee with \"+str(number_of_sugars)+\" sugars and \"+type_of_milk+\" milk\")\n",
    "\n",
    "order_coffee(\"oat\", \"large\", \"2 brown\") \n",
    "# Parameters are passed in a mixed-up order. It works, but makes no sense."
   ]
  },
  {
   "cell_type": "markdown",
   "metadata": {},
   "source": [
    "---------\n",
    "\n",
    "## ⭐️⭐️⭐️💥 What you have learned in this session: Three stars and a wish.\n",
    "\n",
    "**In your own words** write in the Markdown cell below:\n",
    "\n",
    "- 3 things you would like to remember from this notebook.\n",
    "- 1 thing you wish to understand better in the future or a question you'd like to ask."
   ]
  },
  {
   "cell_type": "markdown",
   "metadata": {},
   "source": [
    "*Add your reflections here.*"
   ]
  },
  {
   "cell_type": "markdown",
   "metadata": {},
   "source": [
    "--------------\n",
    "\n",
    "## Topic Overview"
   ]
  },
  {
   "cell_type": "code",
   "execution_count": null,
   "metadata": {},
   "outputs": [],
   "source": [
    "# Function definitions:\n",
    "\n",
    "def are_any_of_these_names_the_same(name_1, name_2, name_3):\n",
    "    result = (name_1 == name_2) or (name_2 == name_3) or (name_3 == name_1)\n",
    "    return result # This is returned to whoever called this function.\n",
    "\n",
    "\n",
    "# Note: Whenever you run a cell with a function definition, you \"load\" that function into memory.\n",
    "# There's no need to run it a lot, just once is enough.\n",
    "# And if you change the function you will want to run it again to \"re-load\" it into the momory."
   ]
  },
  {
   "cell_type": "code",
   "execution_count": null,
   "metadata": {},
   "outputs": [],
   "source": [
    "# Calling functions - result will be displayed underneath the cell with ```Out[]``` next to it. \n",
    "# You can only return one thing from each cell. It will usually be the result of the last line of code.\n",
    "are_any_of_these_names_the_same(\"Billie\", \"fiona\", \"fiona\")"
   ]
  },
  {
   "cell_type": "code",
   "execution_count": null,
   "metadata": {},
   "outputs": [],
   "source": [
    "# You can call the funciton multiple times, giving it differrent input variables.\n",
    "\n",
    "are_any_of_these_names_the_same(\"Billie\", \"fiona\", \"Jin\")"
   ]
  },
  {
   "cell_type": "code",
   "execution_count": null,
   "metadata": {},
   "outputs": [],
   "source": [
    "# and again!\n",
    "are_any_of_these_names_the_same(\"Billie\", \"Billie\", \"Jin\")"
   ]
  },
  {
   "cell_type": "code",
   "execution_count": null,
   "metadata": {},
   "outputs": [],
   "source": [
    "# Printing function results. \n",
    "# You can run a function, store what it returns in a variable. \n",
    "# And then print that variable\n",
    "\n",
    "are_they_simmilar = are_any_of_these_names_the_same(\"Max\", \"fiona\", \"Jin\")\n",
    "print(are_they_simmilar)\n",
    "\n",
    "# Or you can put the function call directly into the print, to have a shorter (folded, nested) version.\n",
    "\n",
    "print( are_any_of_these_names_the_same(\"Jin\", \"fiona\", \"Jin\") )\n",
    "\n",
    "# Both above solutions do the same thing and are just as good."
   ]
  },
  {
   "cell_type": "markdown",
   "metadata": {},
   "source": [
    "-----------\n",
    "\n",
    "# ⛏ Exercises: Finding purpose in the function.\n",
    "\n",
    "Look at the code below. Can you think of a way to produce the same or very similar result."
   ]
  },
  {
   "cell_type": "code",
   "execution_count": null,
   "metadata": {},
   "outputs": [],
   "source": [
    "# do you know this song? google it, and you will have even more fun solving this puzzle, while singing!\n",
    "print(\"The wheels on the bus go round and round\")\n",
    "print(\"Round and round, round and round\")\n",
    "print(\"The wheels on the bus go round and round\")\n",
    "print(\"All through the town\")\n",
    "print(\"\")\n",
    "print(\"The wipers on the bus go Swish, swish, swish,\")\n",
    "print(\"Swish, swish, swish, swish, swish, swish\")\n",
    "print(\"The wipers on the bus go Swish, swish, swish\")\n",
    "print(\"All through the town.\")\n",
    "print(\"\")\n",
    "print(\"The people on the bus go, chat, chat, chat,\")\n",
    "print(\"chat,chat chat,chat, chat ,chat\")\n",
    "print(\"The people on the bus go, chat,chat,chat\")\n",
    "print(\"All through the town.\")\n",
    "print(\"\")"
   ]
  },
  {
   "cell_type": "code",
   "execution_count": null,
   "metadata": {},
   "outputs": [],
   "source": [
    "# let's do this step by step!\n",
    "# There seems to be a pattern betwen the verses of the song\n",
    "# some things are repeated\n",
    "\n",
    "def verse1():\n",
    "    print(\"The wheels on the bus go round and round\")\n",
    "    print(\"Round and round, round and round\")\n",
    "    print(\"The wheels on the bus go round and round\")\n",
    "    print(\"All through the town\")\n",
    "    print(\"\")\n",
    "    \n",
    "verse1()"
   ]
  },
  {
   "cell_type": "code",
   "execution_count": null,
   "metadata": {},
   "outputs": [],
   "source": [
    "# there's the action bit that's repeated a lot. like 'round and round' or 'Swish, swish, swish'\n",
    "def verse1():\n",
    "    action = \"round and round\"\n",
    "    print(\"The wheels on the bus go \"+action)\n",
    "    print(action + \" \" + action)\n",
    "    print(\"The wheels on the bus go \" + action)\n",
    "    print(\"All through the town\")\n",
    "    print(\"\")\n",
    "\n",
    "verse1()"
   ]
  },
  {
   "cell_type": "code",
   "execution_count": null,
   "metadata": {},
   "outputs": [],
   "source": [
    "# amazing! let's try another thing:\n",
    "# there's the thing that performs the action (bus, wipers, etc)\n",
    "def verse1():\n",
    "    action = \"round and round\"\n",
    "    what = \"wheels\"\n",
    "    print(\"The \",what,\" on the bus go \"+action)\n",
    "    print(action + \" \" + action)\n",
    "    print(\"The \"+what+\" on the bus go \" + action)\n",
    "    print(\"All through the town\")\n",
    "    print(\"\")\n",
    "\n",
    "verse1()"
   ]
  },
  {
   "cell_type": "code",
   "execution_count": null,
   "metadata": {},
   "outputs": [],
   "source": [
    "# ok, so maybe now we can abstract the function to work with EVERY VERSE?\n",
    "\n",
    "def any_verse(what, action):\n",
    "    print(\"The \",what,\" on the bus go \"+action)\n",
    "    print(action + \", \" + action)\n",
    "    print(\"The \"+what+\" on the bus go \" + action)\n",
    "    print(\"All through the town\")\n",
    "    print(\"\")\n",
    "\n",
    "any_verse(\"wheels\",\"round and round\")"
   ]
  },
  {
   "cell_type": "code",
   "execution_count": null,
   "metadata": {},
   "outputs": [],
   "source": [
    "# amazing, now we can sing all the verses just like this:\n",
    "\n",
    "any_verse(\"wheels\",\"round and round\")\n",
    "any_verse(\"wipers\",\"Swish, swish, swish\")\n",
    "any_verse(\"people\",\"chat,chat chat\")"
   ]
  },
  {
   "cell_type": "markdown",
   "metadata": {},
   "source": [
    "## Another task (your turn):\n",
    "\n",
    "Below is the penguin song. Can you identify how you could produce the same prints, but with use of functions?\n",
    "    \n",
    "    PENGUINS ATTENTION!\n",
    "    PENGUINS BEGIN!\n",
    "    \n",
    "    Right Arm Flap\n",
    "    1234\n",
    "    \n",
    "    Have you ever seen\n",
    "    A penguin come to tea?\n",
    "    When you look at me\n",
    "    A penguin you will see!\n",
    "    \n",
    "    PENGUINS ATTENTION!\n",
    "    PENGUINS BEGIN!\n",
    "    \n",
    "    Right Arm Flap\n",
    "    1234\n",
    "    Left Arm Flap\n",
    "    1234\n",
    "    \n",
    "    Have you ever seen\n",
    "    A penguin come to tea?\n",
    "    When you look at me\n",
    "    A penguin you will see!\n",
    "    \n",
    "    PENGUINS ATTENTION!\n",
    "    PENGUINS BEGIN!\n",
    "    \n",
    "    Both Arms Flap\n",
    "    1234"
   ]
  },
  {
   "cell_type": "code",
   "execution_count": null,
   "metadata": {},
   "outputs": [],
   "source": [
    "# There should functions be used? Identify parts that are simmilar but different. \n",
    "# the 'different parts' are usually variables\n",
    "# try to solve the task here"
   ]
  }
 ],
 "metadata": {
  "kernelspec": {
   "display_name": "Python 3 (ipykernel)",
   "language": "python",
   "name": "python3"
  },
  "language_info": {
   "codemirror_mode": {
    "name": "ipython",
    "version": 3
   },
   "file_extension": ".py",
   "mimetype": "text/x-python",
   "name": "python",
   "nbconvert_exporter": "python",
   "pygments_lexer": "ipython3",
   "version": "3.9.13"
  }
 },
 "nbformat": 4,
 "nbformat_minor": 2
}
