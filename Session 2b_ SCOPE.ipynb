{
 "cells": [
  {
   "cell_type": "markdown",
   "metadata": {},
   "source": [
    "# CDCS Training Programme\n",
    "# Introduction to Python\n",
    "## Session 2b: SCOPE"
   ]
  },
  {
   "cell_type": "markdown",
   "metadata": {},
   "source": [
    "--------------------\n",
    "\n",
    "### Learning objectives for this session:\n",
    "\n",
    "At the end of this notebook you will know:\n",
    "\n",
    "- What a function scope is and why it is important.\n",
    "- How to return values from a function.\n",
    "- Recall the anatomy of a function.\n",
    "- Named parameters and default values."
   ]
  },
  {
   "cell_type": "markdown",
   "metadata": {},
   "source": [
    "--------------------\n",
    "\n",
    "## 1. Function Scope (area, extent, reach): Context in which we do things and use variables.\n",
    "\n",
    "**This bit is important, but a bit complicated. If you don't get it, read it and work through the code in your pairing and then re-read this.**"
   ]
  },
  {
   "cell_type": "markdown",
   "metadata": {},
   "source": [
    "Every time we run a function we create a new \"scope\". You can think of scope as a new completely separate computer program, or a bubble, or a small world inside of each thing we ask to happen, where variables will change. In English the word \"scope\" is recorded to mean, \"The sphere or area over which any activity operates or is effective.\"\n",
    "\n",
    "We often have a scope inside of a scope. For example one scope (outside) would be the main program we are running. \n",
    "This is called a 'GLOBAL SCOPE'. Inside of that main program we can be running a function, so inside that function we have another scope clled 'LOCAL SCOPE' or 'FUNCTION SCOPE'. This is like a circle inside of a circle."
   ]
  },
  {
   "cell_type": "code",
   "execution_count": null,
   "metadata": {},
   "outputs": [],
   "source": [
    "# Global/outside/generic scope variables.\n",
    "\n",
    "name = \"Wendy\"\n",
    "age = 32\n",
    "\n",
    "# Function with local/specific scope variables.\n",
    "\n",
    "def my_function():\n",
    "    \n",
    "    day = \"Thursday\"\n",
    "    count = 7"
   ]
  },
  {
   "cell_type": "markdown",
   "metadata": {},
   "source": [
    "Here are some SCOPE rules:\n",
    "\n",
    "**SCOPE RULE 1. YOU CANNOT PEEK INSIDE OTHER (more specific) SCOPES, like OTHER FUNCTIONS**: \n",
    "Things from inside of a local scope (more specicfic), like variables within a function, are NOT available outside of their function (a more global/generic scope)."
   ]
  },
  {
   "cell_type": "code",
   "execution_count": null,
   "metadata": {},
   "outputs": [],
   "source": [
    "def print_number():\n",
    "    secret_number = 13 # We create a local variable inside of the scope of this function. \n",
    "    print(secret_number) # This will work, variable can be found.\n",
    "    \n",
    "print_number()\n",
    "print(secret_number) # This will error. \n",
    "\n",
    "# Because 'secret_number' is hidden within the scope of the function 'print_number'.\n",
    "\n",
    "# REMINDER: always read errors from the bottom and look for ----> X    line number\n",
    "# enable line numbers in View > toggle Line numbers"
   ]
  },
  {
   "cell_type": "code",
   "execution_count": null,
   "metadata": {},
   "outputs": [],
   "source": [
    "def print_number():\n",
    "    secret_number = 13 # We create a local variable inside of the scope of THIS function. \n",
    "    print(secret_number) # This will work, local variable.\n",
    "    \n",
    "def print_that_other_number():\n",
    "    print(secret_number) # This will NOT work. \n",
    "    # Because 'secret_number' is unknown in the scope of this fumction.\n",
    "\n",
    "print_number() # this will print\n",
    "print_that_other_number() # this will error"
   ]
  },
  {
   "cell_type": "markdown",
   "metadata": {},
   "source": [
    "**SCOPE RULE 2. YOU CAN LOOK OUTSIDE TO MORE GLOBAL SCOPES but it can be TROUBLE** : Especially if you try to change what's the details of what's within them."
   ]
  },
  {
   "cell_type": "code",
   "execution_count": null,
   "metadata": {},
   "outputs": [],
   "source": [
    "# This will work. \n",
    "# Function scope is accessing outside variable. \n",
    "# But as you will see below it can be tricky.\n",
    "\n",
    "def print_number():\n",
    "    print(outside_number) \n",
    "\n",
    "outside_number = 7\n",
    "print_number()"
   ]
  },
  {
   "cell_type": "markdown",
   "metadata": {},
   "source": [
    "**THE TRICKY BIT**: Below is an example of why it is often not a good idea to use variables from the outside, especially if you're planning to change them. The following functions might work or not, but it's quite an advanced topic to understand why."
   ]
  },
  {
   "cell_type": "code",
   "execution_count": null,
   "metadata": {},
   "outputs": [],
   "source": [
    "# This will work.\n",
    "# Function scope is able to acess outside variable.\n",
    "def print_number():\n",
    "    print(outside_number) \n",
    "\n",
    "outside_number = 7\n",
    "print_number()"
   ]
  },
  {
   "cell_type": "code",
   "execution_count": null,
   "metadata": {},
   "outputs": [],
   "source": [
    "# This will NOT work.\n",
    "# Function scope is accessing outside variable.\n",
    "def print_number():\n",
    "    number = 10 \n",
    "    print(number)\n",
    "\n",
    "    # Here we CREATE ANOTHER VARIABLE in the function scope ALSO CALLED 'number'.\n",
    "    # And then we change that local number to 10 and we print it.\n",
    "    # Note: the global number is still 7 NOT 10, the local scope will be overidden.\n",
    "\n",
    "number = 7\n",
    "print(number)\n",
    "print_number()\n",
    "print(number) # When we make it here, the global number is still 7. Or maybe it should be 10? Oh no!\n",
    "\n",
    "# Not always ideal, and not what we may be expecting to happen."
   ]
  },
  {
   "cell_type": "markdown",
   "metadata": {},
   "source": [
    "Different scopes can have variables called with the same names. These similarly-named variables have nothing to do with each other. Just like the global and local 'outside_number' in our previous example. \n",
    "\n",
    "These concepts are really hard, and a bit confusing so if you do not fully understand this bit, just try to remember the rule: \n",
    "\n",
    "**Do not change variables from outside of your scope, if you can help it.**"
   ]
  },
  {
   "cell_type": "code",
   "execution_count": null,
   "metadata": {},
   "outputs": [],
   "source": [
    "# COMPLICATED EXAMPLE OF SOMETHING GOING WRONG, feel free to skip this.\n",
    "\n",
    "# This example is really tricky. \n",
    "# At this point just remember:\n",
    "# Try to avoid changing variables from outside of their scope.\n",
    "# It can be a trap.\n",
    "\n",
    "# This will NOT work AND WILL ERROR.\n",
    "# Function scope will create it's own variable, but it first tries to use it.\n",
    "\n",
    "def print_number():\n",
    "    print(number) # This will already crash the program. Why?\n",
    "    number = 10 \n",
    "\n",
    "number = 7\n",
    "print(number) \n",
    "print_number() # By this point, the program would have crashed, out of confusion\n",
    "print(number)"
   ]
  },
  {
   "cell_type": "markdown",
   "metadata": {},
   "source": [
    "**TO AVOID TROUBLE**: Pass all required variables into functions as parameters! Each function should recieve everything it needs within its parameters. These are variables you'll need later, passed inside of the `()` parts of your `function()` when you built it."
   ]
  },
  {
   "cell_type": "code",
   "execution_count": null,
   "metadata": {},
   "outputs": [],
   "source": [
    "# It's much better practice to pass things into functions:\n",
    "\n",
    "def print_number_twice(number_to_print):\n",
    "    # Notice that here we are not using 'outside_number'. \n",
    "    # But the 'number_to_print' from the functions arguments.\n",
    "    print(number_to_print, number_to_print) \n",
    "\n",
    "outside_number = 7 # This will not be used in the function scope. Instead, we'll pass it in as the argument.\n",
    "print_number_twice(outside_number) # Here 'number_to_print' becomes 'outside_number'(7).\n",
    "\n",
    "# This is safer, because there is no possibility for awkard changes.   "
   ]
  },
  {
   "cell_type": "markdown",
   "metadata": {},
   "source": [
    "\n",
    "Some more, mainly bad, examples:"
   ]
  },
  {
   "cell_type": "code",
   "execution_count": null,
   "metadata": {},
   "outputs": [],
   "source": [
    "# BAD EXAMPLE: But you'll see why, once we can return from functions.\n",
    "# Try to guess what will be printed before you run this cell.\n",
    "\n",
    "def change_name_and_print_it():\n",
    "    name = \"Maggy\"\n",
    "    print(name)\n",
    "\n",
    "name = \"Pim\"\n",
    "print(name)\n",
    "change_name_and_print_it()\n",
    "print(name)\n",
    "\n",
    "# what's going on here?? (below is the same code, but with some explanations) "
   ]
  },
  {
   "cell_type": "code",
   "execution_count": null,
   "metadata": {},
   "outputs": [],
   "source": [
    "# same as above, but explained\n",
    "def change_name_and_print_it():\n",
    "    name = \"Maggy\" # We create another unrelated variable 'name' in this scope, and we set it to \"Maggy\".\n",
    "    print(name) # Variable 'name' inside of this scope has value \"Maggy\". \n",
    "    # But it is A DIFFERENT VARIABLE to the 'name' from the higher/global scope (line 11) \n",
    "    # Changing it does not affect what will be 'name' from outside/global scope.\n",
    "\n",
    "name = \"Pim\" # Creating top level variable 'name'.\n",
    "print(name) # Name is \"Pim\".\n",
    "change_name_and_print_it() # Prints 'name' attaced to scope of this function.\n",
    "print(name) # Name is still \"Pim\"."
   ]
  },
  {
   "cell_type": "code",
   "execution_count": null,
   "metadata": {},
   "outputs": [],
   "source": [
    "# ANOTHER BAD EXAMPLE:\n",
    "\n",
    "def sum(a,b,c):\n",
    "    result = a+b+c # Variable 'result' only exists in the local scope of this function.\n",
    "\n",
    "sum(1,2,4)\n",
    "print(result) # This will error, because there is no variable 'result' in the global scope.\n"
   ]
  },
  {
   "cell_type": "markdown",
   "metadata": {},
   "source": [
    "------\n",
    "\n",
    "## 2. Functions returning values"
   ]
  },
  {
   "cell_type": "markdown",
   "metadata": {},
   "source": [
    "We have already learnt that functions are blocks of code with some functionality that we want to reuse."
   ]
  },
  {
   "cell_type": "code",
   "execution_count": null,
   "metadata": {},
   "outputs": [],
   "source": [
    "def say_hello_twice():\n",
    "    print(\"hello\" + \"hello\") # This is not a very useful function. It can only print \"hellohello\".\n",
    "\n",
    "say_hello_twice()"
   ]
  },
  {
   "cell_type": "markdown",
   "metadata": {},
   "source": [
    "We know that we can pass in parameters/arguments to functions, so that their functionality can be applied in different cotexts."
   ]
  },
  {
   "cell_type": "code",
   "execution_count": null,
   "metadata": {},
   "outputs": [],
   "source": [
    "def say_a_word_twice(word):\n",
    "        print(word + word) # This is more universal and reusable, you can apply it to any word.\n",
    "\n",
    "say_a_word_twice(\"Penguin\")"
   ]
  },
  {
   "cell_type": "markdown",
   "metadata": {},
   "source": [
    "**RETURNING VALUES**: After function is done with its work, it can return the value to whoever called it. "
   ]
  },
  {
   "cell_type": "code",
   "execution_count": null,
   "metadata": {},
   "outputs": [],
   "source": [
    "# We have already seen this before with input(\"\") where after running input we capured/stored \n",
    "# a value into a variable.\n",
    "\n",
    "my_name = input(\"who are you?\")\n",
    "print(my_name)"
   ]
  },
  {
   "cell_type": "code",
   "execution_count": null,
   "metadata": {},
   "outputs": [],
   "source": [
    "# We can make our functions RETURN a value, which means that after they are run, it can be stored in a variable.\n",
    "\n",
    "def combine_a_word_twice(word):\n",
    "    return word + word \n",
    "\n",
    "word_twice = combine_a_word_twice(\"Penguin\")\n",
    "print(word_twice)\n",
    "\n",
    "# This is even more universal, because we can do things with the result of the function."
   ]
  },
  {
   "cell_type": "code",
   "execution_count": null,
   "metadata": {},
   "outputs": [],
   "source": [
    "# What happens with the returned value from a function? \n",
    "# It basically appears in the place where you called the function.\n",
    "# So when you run the code below, function 'combine_a_word_twice(\"hi\")' will be executed, and SWAPPED for \"hihi\".\n",
    "\n",
    "words = combine_a_word_twice(\"hi\")\n",
    "print(words)"
   ]
  },
  {
   "cell_type": "code",
   "execution_count": null,
   "metadata": {},
   "outputs": [],
   "source": [
    "# The above code is EXACTLY like saying.\n",
    "\n",
    "words = \"hihi\"\n",
    "print(words)"
   ]
  },
  {
   "cell_type": "markdown",
   "metadata": {},
   "source": [
    "**When the program is run, it will put the RESULT of the function, in the place where you CALLED THE FUNCTION.**\n",
    "\n",
    "Note: When a function reaches a ```return``` it will 'terminate' which means it will not look at any code after ```return```."
   ]
  },
  {
   "cell_type": "code",
   "execution_count": null,
   "metadata": {},
   "outputs": [],
   "source": [
    "def get_hello_twice(): # This function will return \"hello hello\".\n",
    "    return \"hello hello\"\n",
    "\n",
    "print( get_hello_twice() ) # So this is like calling print( \"hello hello\" )."
   ]
  },
  {
   "cell_type": "code",
   "execution_count": null,
   "metadata": {},
   "outputs": [],
   "source": [
    "def get_a_lucky_number(): # This function will return 7.\n",
    "    return 7\n",
    "\n",
    "print( get_a_lucky_number() ) # So this is like calling print( 7 )\n",
    "print( get_a_lucky_number() + get_a_lucky_number() ) # what would this do?"
   ]
  },
  {
   "cell_type": "code",
   "execution_count": null,
   "metadata": {},
   "outputs": [],
   "source": [
    "def sum(a,b,c):\n",
    "    return a+b+c # We return the outcome of a+b+c to wherever this function is called.\n",
    "\n",
    "print( sum(1,2,4) ) # Is like calling 'print(7)' because 'sum(1,2,4)', returns 7.\n",
    "print( sum(10,10,10) ) # Is like calling 'print(30)' because 'sum(10,10,10), returns 30.\n",
    "print( sum(1,1,1) ) # Is like calling 'print(3)' because 'sum(1,1,1)', returns 3."
   ]
  },
  {
   "cell_type": "markdown",
   "metadata": {},
   "source": [
    "Often you will want to capture an outcome of a variable (whatever it returns) into another variable, so that you can use it later. \n",
    "For example:"
   ]
  },
  {
   "cell_type": "code",
   "execution_count": null,
   "metadata": {},
   "outputs": [],
   "source": [
    "#  this is not very DRY\n",
    "\n",
    "def sum(a,b,c):\n",
    "    return a+b+c # We return the outcome of a+b+c to whereve this function is called.\n",
    "\n",
    "print(sum(1,2,4)) \n",
    "print(sum(1,2,4) * sum(1,2,4)) \n",
    "print(sum(1,2,4) + sum(1,2,4))"
   ]
  },
  {
   "cell_type": "code",
   "execution_count": null,
   "metadata": {},
   "outputs": [],
   "source": [
    "# We can see how this is more dry and versitile, as apposed to calling above code\n",
    "\n",
    "total = sum(1,2,4) # Is like calling 'total = 7' because 'sum(1,2,4)', returns 7.\n",
    "print(total) \n",
    "print(total * total) \n",
    "print(total + total)"
   ]
  },
  {
   "cell_type": "markdown",
   "metadata": {},
   "source": [
    "-------\n",
    "\n",
    "## 3. Recalling the anatomy of a function."
   ]
  },
  {
   "cell_type": "markdown",
   "metadata": {},
   "source": [
    "As we come to the end of our notebooks on functions, it would be wise to recall the anatomy of a function in order to solidify our knowledge. In the below example:\n",
    "\n",
    "**Definition** of a function:\n",
    "\n",
    "`\n",
    "def add_three_numbers(num_1, num_2, num_3):\n",
    "    sum = num_1 + num_2 + num_3\n",
    "    return sum\n",
    "`\n",
    "\n",
    "**function name**: ```add_three_numbers```\n",
    "\n",
    "**function arguments**:  ```num_1, num_2, num_3```\n",
    "\n",
    "**function body**: \n",
    "\n",
    "```\n",
    "sum = num_1 + num_2 + num_3\n",
    "return sum\n",
    "```\n",
    "        \n",
    "**function returns** value here `return sum`.\n",
    "    \n",
    "**Calling a function:** \n",
    "    \n",
    "`add_three_numbers(1,3,6)` # we can pass any 3 arguments into this function.\n",
    "    \n",
    "Returned value of the function 'magically appears' where it was called.\n",
    "\n",
    "So `add_three_numbers(1,3,6)` will 'become' `10`.\n",
    "\n",
    "So `print(add_three_numbers(1,3,6))` is the same as `print(10)`.\n",
    "\n",
    "So `sum = add_three_numbers(1,3,6)` is the same as `sum = 10`.\n"
   ]
  },
  {
   "cell_type": "markdown",
   "metadata": {},
   "source": [
    "--------\n",
    "\n",
    "## 4. Named parameters and default Values.\n",
    "\n",
    "Default values: simplify code, but have to be at the end. Sometimes we would like to provide default values for some arguments. Mainly to make it easier to use our functions. \n",
    "\n",
    "In the coffee example, that we saw in session 4, we would like to just say \"Coffee, please\" and the barista will know that we want e.g. a normal sized, no sugar, no milk, coffee.\n",
    "\n",
    "For that to work without writing another simpler function, we could specify some DEFAULT PARAMETERS. Basically, we can give some parameters a value that should be assumed, if we did not specify otherwise.\n",
    "\n",
    "A great thing about default parameters is that we can still use a function as we did above (specifying everything), but, as not everything needs to be stated, we can also use the a simplified version."
   ]
  },
  {
   "cell_type": "code",
   "execution_count": null,
   "metadata": {},
   "outputs": [],
   "source": [
    "def order_coffee(size = \"normal\", number_of_sugars = 0, type_of_milk = \"no\"): \n",
    "    return \"Here's a \"+size+\" coffee with \"+str(number_of_sugars)+\" sugars and \"+type_of_milk+\" milk\"\n",
    "\n",
    "# When no value is specified, Python will assume default values (\"normal\", 0, \"no\").\n",
    "\n",
    "print( order_coffee())                        #  Is like calling 'order_coffee(\"normal\", 0, \"no\")'.\n",
    "print( order_coffee(\"filter\"))                #  Is like calling 'order_coffee(\"filter\", 0, \"no\")'.\n",
    "print( order_coffee(\"filter\", 2))             #  Is like calling 'order_coffee(\"filter\", 2, \"no\")'.\n",
    "print( order_coffee(\"filter\", 2, \"skimmed\"))  #  Is like calling 'order_coffee(\"filter\", 2, \"skimmed\")'."
   ]
  },
  {
   "cell_type": "markdown",
   "metadata": {},
   "source": [
    "### **The strange bit: why default values have to be at the end?**\n",
    "\n",
    "Note: Some or all attributes can have default values, as long as the default parameters are after any stated values. \n",
    "So we could write:\n",
    "\n",
    "```\n",
    "def order_coffee( size,            number_of_sugars,     type_of_milk       ): \n",
    "def order_coffee( size,            number_of_sugars,     type_of_milk = \"no\"): \n",
    "def order_coffee( size,            number_of_sugars = 0, type_of_milk = \"no\"): \n",
    "def order_coffee( size = \"normal\", number_of_sugars = 0, type_of_milk = \"no\"): \n",
    "```\n",
    "\n",
    "And as shown above, when calling a function, we can skip some values. However, we need to make sure that Python will know what we're talking about and which argument is which.\n",
    "\n",
    "```\n",
    "order_coffee()\n",
    "order_coffee(\"filter\")\n",
    "order_coffee(\"filter\", 2)\n",
    "order_coffee(\"filter\", 2, \"skimmed\")\n",
    "```\n",
    "\n",
    "Why do they need to be at the end? Becuase if the attribute with a default value was in the middle, like in the below example:"
   ]
  },
  {
   "cell_type": "code",
   "execution_count": null,
   "metadata": {},
   "outputs": [],
   "source": [
    "# This will return an error.\n",
    "# Read the error carefully.\n",
    "\n",
    "# Notice the last parameter has no default.\n",
    "def order_coffee( size = \"normal\", number_of_sugars = 0, type_of_milk): \n",
    "    print(\"Here's a \"+size+\" coffee with \"+str(number_of_sugars)+\" sugars and \"+type_of_milk+\" milk\")"
   ]
  },
  {
   "cell_type": "code",
   "execution_count": null,
   "metadata": {},
   "outputs": [],
   "source": [
    "# Here we tried to use the default for number_of_sugars but specify type_of_milk. That is not possible.\n",
    "\n",
    "def order_coffee(size = \"normal\", number_of_sugars = 0, type_of_milk = \"no\"): \n",
    "    print(\"Here's a \"+size+\" coffee with \"+str(number_of_sugars)+\" sugars and \"+type_of_milk+\" milk\")\n",
    "    \n",
    "order_coffee(\"filter\", \"skimmed\") # Here I hoped to use default 'number_of_sugars' which is 0.\n",
    "\n",
    "# Run this code, read the output, and notice what is wrong."
   ]
  },
  {
   "cell_type": "markdown",
   "metadata": {},
   "source": [
    "Alternatively, there is an option to specify the name of each parameter when you call a function. This could be useful in a few advanced scenarios, which are outside of the scope of this course. But here is an example of it, so that if you ever encounter it, it is familiar."
   ]
  },
  {
   "cell_type": "code",
   "execution_count": null,
   "metadata": {},
   "outputs": [],
   "source": [
    "# Our 'order_coffee' function from before can be called in new ways:\n",
    "\n",
    "def order_coffee(size = \"normal\", number_of_sugars = 0, type_of_milk = \"no\"): \n",
    "    return \"Here's a \"+size+\" coffee with \"+str(number_of_sugars)+\" sugars and \"+type_of_milk+\" milk\"\n",
    "\n",
    "# As before you could call the function with all arguments.\n",
    "\n",
    "print( order_coffee(size = \"large\", number_of_sugars = 2, type_of_milk = \"soy\") )"
   ]
  },
  {
   "cell_type": "code",
   "execution_count": null,
   "metadata": {},
   "outputs": [],
   "source": [
    "# Or you could specify just some arguments, other ones will use the default values (this is new).\n",
    "# Below is calling 'order_coffee(\"normal\", 0, \"soy\")' because 'size' and 'number_of_sugars' will take default values.\n",
    "\n",
    "print(order_coffee(type_of_milk = \"soy\"))"
   ]
  },
  {
   "cell_type": "code",
   "execution_count": null,
   "metadata": {},
   "outputs": [],
   "source": [
    "#  Below is calling 'order_coffee(\"normal\", 4, \"cow\")', because size will take the default value.\n",
    "\n",
    "print(order_coffee(number_of_sugars = 4, type_of_milk = \"cow\"))"
   ]
  },
  {
   "cell_type": "code",
   "execution_count": null,
   "metadata": {},
   "outputs": [],
   "source": [
    "#  Below is calling 'order_coffee(\"normal\", 0, \"no\")', all attributes will take default values.\n",
    "\n",
    "print(order_coffee())"
   ]
  },
  {
   "cell_type": "markdown",
   "metadata": {},
   "source": [
    "---------\n",
    "\n",
    "## ⭐️⭐️⭐️💥 What you have learned in this session: Three stars and a wish.\n",
    "\n",
    "**In your own words** write in the Markdown cell below:\n",
    "\n",
    "- 3 things you would like to remember from this notebook.\n",
    "- 1 thing you wish to understand better in the future or a question you'd like to ask."
   ]
  },
  {
   "cell_type": "markdown",
   "metadata": {},
   "source": [
    "*Add your reflections here.*"
   ]
  },
  {
   "cell_type": "markdown",
   "metadata": {},
   "source": [
    "--------------\n",
    "\n",
    "## Topic Overview"
   ]
  },
  {
   "cell_type": "code",
   "execution_count": null,
   "metadata": {},
   "outputs": [],
   "source": [
    "# SCOPE\n",
    "# This will work.\n",
    "# Function scope is able to acess outside variable.\n",
    "def print_number():\n",
    "    print(outside_number) \n",
    "\n",
    "outside_number = 7\n",
    "print_number()"
   ]
  },
  {
   "cell_type": "code",
   "execution_count": null,
   "metadata": {},
   "outputs": [],
   "source": [
    "# This will NOT work.\n",
    "# Function scope is accessing outside variable.\n",
    "def print_number():\n",
    "    number = 10 \n",
    "    print(number)\n",
    "\n",
    "    # Here we CREATE ANOTHER VARIABLE in the function scope ALSO CALLED 'number'.\n",
    "    # And then we change that local number to 10 and we print it.\n",
    "    # Note: the global number is still 7 NOT 10, the local scope will be overidden.\n",
    "\n",
    "number = 7\n",
    "print(number)"
   ]
  },
  {
   "cell_type": "code",
   "execution_count": null,
   "metadata": {},
   "outputs": [],
   "source": [
    "# Sometimes we want to pre-specify a parameter, but this must go at the end.\n",
    "def print_animal(size, animal = \"Penguin\"):\n",
    "    print(\"This is a\",size,animal)\n",
    "    \n",
    "print_animal(\"big\")            # This will print a Penguin.\n",
    "print_animal(\"big\", \"Penguin\") # This will also print a Penguin.\n",
    "print_animal(\"small\", \"hippo\") # This will not print a Penguin"
   ]
  },
  {
   "cell_type": "code",
   "execution_count": null,
   "metadata": {},
   "outputs": [],
   "source": [
    "# If we want to, we can be lazy and as long as all parameters are pre-specified order doesn't matter.\n",
    "def who_lives_here(island = \"Long\", animal = \"Penguins\"):\n",
    "    print(animal,\"live on\",island,\"island\")\n",
    "\n",
    "# These will all return the same thing.\n",
    "who_lives_here()\n",
    "who_lives_here(island = \"Long\", animal = \"Penguins\")\n",
    "who_lives_here(animal = \"Penguins\", island = \"Long\")"
   ]
  },
  {
   "cell_type": "markdown",
   "metadata": {},
   "source": [
    "-----------\n",
    "\n",
    "# ⛏ Exercises:  Re-using functions.\n",
    "\n",
    "First: smaller_number (already solved for you)"
   ]
  },
  {
   "cell_type": "code",
   "execution_count": null,
   "metadata": {},
   "outputs": [],
   "source": [
    "# Create a function that takes two numbers and returns the smaller one\n",
    "\n",
    "def smaller_number(num1, num2):\n",
    "    if num1 <= num2:\n",
    "        return num1\n",
    "    else:\n",
    "        return num2\n",
    "    \n",
    "    \n",
    "print(smaller_number(3,4))\n",
    "print(smaller_number(10,4))\n",
    "print(smaller_number(10,10))"
   ]
  },
  {
   "cell_type": "code",
   "execution_count": null,
   "metadata": {},
   "outputs": [],
   "source": [
    "# another step: what if there are 3 numbers? it gets a bit more complicated\n",
    "\n",
    "def smaller_number_of_3(num1, num2, num3):\n",
    "    if num1 <= num2 and num1 <= num3:\n",
    "        return num1\n",
    "    elif num2 <= num1 and num2 <= num3:\n",
    "        return num2\n",
    "    else:\n",
    "        return num3\n",
    "    \n",
    "    \n",
    "print(smaller_number_of_3(1,4,3))\n",
    "print(smaller_number_of_3(3,10,-2))\n",
    "print(smaller_number_of_3(10,10,10))"
   ]
  },
  {
   "cell_type": "code",
   "execution_count": null,
   "metadata": {},
   "outputs": [],
   "source": [
    "# ok.. and what if there are 4 numbers?\n",
    "\n",
    "def smaller_number_of_4(num1, num2, num3, num4):\n",
    "    if (num1 <=  num2 and num1 <=  num3 and num1 <=  num4):\n",
    "        return num1\n",
    "    elif (num2 <=  num1 and num2 <=  num3 and num2 <=  num4):\n",
    "        return num2\n",
    "    elif (num3 <=  num1 and num3 <=  num2 and num3 <=  num4):\n",
    "        return num3\n",
    "    else:\n",
    "        return num4\n",
    "     \n",
    "print(smaller_number_of_4(1,2,3,4))\n",
    "print(smaller_number_of_4(1,2,0,4))\n",
    "print(smaller_number_of_4(2,2,3,3))\n",
    "print(smaller_number_of_4(3,3,3,3))"
   ]
  },
  {
   "cell_type": "markdown",
   "metadata": {},
   "source": [
    "Do you see any repetition above? Think about which parts of one function are simmilarly used in another one?\n",
    "\n",
    "eg. consider below definitions"
   ]
  },
  {
   "cell_type": "code",
   "execution_count": null,
   "metadata": {},
   "outputs": [],
   "source": [
    "# This function can be broken down with use of a 'helper function'.\n",
    "\n",
    "def smaller_number(num1, num2):\n",
    "    if num1 <= num2:\n",
    "        return num1\n",
    "    else:\n",
    "        return num2\n",
    "    \n",
    "def smaller_number_of_3(num1, num2, num3):\n",
    "    return smaller_number(smaller_number(num1, num2),num3)\n",
    "\n",
    "def smaller_number_of_4(num1, num2, num3, num4):\n",
    "    return smaller_number( smaller_number(num1, num2), smaller_number(num3, num4) )\n",
    "     \n",
    "# Draw it on paper if it helps to visulise.\n",
    "\n",
    "print(smaller_number_of_3(1,2,3))\n",
    "print(smaller_number_of_4(1,2,0,4))"
   ]
  },
  {
   "cell_type": "markdown",
   "metadata": {},
   "source": [
    "# ⛏ Exercises: Separating functions.\n",
    "\n",
    "\n",
    "- Take the function below, and refactor it to better use the power of functions.\n",
    "- Break it down into simpler a greater number of functions. \n",
    "- You may allow them to have default and named arguments.\n",
    "- Add any more features or elements that you'd like.\n",
    "\n",
    "Remember to regularly save your progress (File > Save, OR a keyboard shortcut (ctr/cmd + S), OR click the 'Disc' icon in the top left corner of your Notebook toolbar). "
   ]
  },
  {
   "cell_type": "code",
   "execution_count": null,
   "metadata": {},
   "outputs": [],
   "source": [
    "# The function to break down into 2-3 smaller ones:\n",
    "\n",
    "def greet_based_on_time(feeling_good, hour, name):    \n",
    "    if feeling_good == True:\n",
    "        mood_greeting =  \"Good\"\n",
    "    else:\n",
    "        mood_greeting =  \"Terrible\"\n",
    "    \n",
    "    if hour < 12:\n",
    "        time_of_the_day =  \"morning\"\n",
    "    elif hour < 17:\n",
    "        time_of_the_day =  \"afternoon\"\n",
    "    else:\n",
    "        time_of_the_day =  \"evening\"\n",
    "    \n",
    "    full_greeting = mood_greeting + \" \" + time_of_the_day + \", \" + name\n",
    "    return full_greeting\n",
    "    \n",
    "print( greet_based_on_time(False, 5, \"Mia\") )\n",
    "print( greet_based_on_time(True, 11, \"Cera\"))\n",
    "print( greet_based_on_time(False, 12, \"Sara\"))\n",
    "print( greet_based_on_time(True, 21, \"Minie\"))"
   ]
  },
  {
   "cell_type": "markdown",
   "metadata": {},
   "source": [
    "Do you think you could create functions `mood_as_word`, `hour_into_time_of_the_day` and `words_into_sentence` (or whatever else you'd like to call them), that will perform individual parts of the above function `greet_based_on_time`.\n",
    "\n",
    "If you manage to complete this task, then the bellow code would work:"
   ]
  },
  {
   "cell_type": "code",
   "execution_count": null,
   "metadata": {},
   "outputs": [],
   "source": [
    "# Note that this will not work yet. You need to built the three helper functions first.\n",
    "# There are 3 Hints below that will guide you on this journey, but try to solve it by yourself first.\n",
    "# Uncover Hints one by one as you go, to challneg yourself (not all at once).\n",
    "\n",
    "def greet_based_on_time(feeling_good, hour, name):    \n",
    "    mood_greeting =  mood_as_word(feeling_good)\n",
    "    time_of_the_day =  hour_into_time_of_the_day(hour)\n",
    "    full_greeting =  words_into_sentence(mood_greeting, time_of_the_day, name)\n",
    "    return full_greeting\n",
    "\n",
    "print( greet_based_on_time(False, 5, \"Mia\") )  # Expected 'Terrible morning, Mia'.\n",
    "print( greet_based_on_time(True, 11, \"Cera\"))  # Expected 'Good morning, Cera'.\n",
    "print( greet_based_on_time(False, 12, \"Sara\")) # Expected 'Terrible afternoon, Sara'.\n",
    "print( greet_based_on_time(True, 21, \"Minie\")) # Expected 'Good evening, Minie'."
   ]
  },
  {
   "cell_type": "markdown",
   "metadata": {},
   "source": [
    "<details><summary style='color:blue'>HINT 1: How to start breaking it down? CLICK HERE TO SEE THE ANSWER. BUT REALLY TRY TO DO IT YOURSELF FIRST!</summary>\n",
    "\n",
    "    Here's some code to get you started, copy it into a code cell so that you can run and edit the code.\n",
    "    \n",
    "    ### BEGIN SOLUTION\n",
    "    \n",
    "    def mood_as_word(are_you_feeling_good):    \n",
    "        # ??? what will be here?\n",
    "\n",
    "    print( mood_as_word(True) ) # expected 'Good'\n",
    "    print( mood_as_word(False) ) # expected 'Terrible'\n",
    "    \n",
    "    \n",
    "    def hour_into_time_of_the_day(hour):    \n",
    "        # ??? what will be here?\n",
    "\n",
    "    print( hour_into_time_of_the_day(1) )  # expected 'morning'\n",
    "    print( hour_into_time_of_the_day(3) )  # expected 'morning'\n",
    "    print( hour_into_time_of_the_day(11) ) # expected 'morning'\n",
    "    print( hour_into_time_of_the_day(12) ) # expected 'afternoon'\n",
    "    print( hour_into_time_of_the_day(15) ) # expected 'afternoon'\n",
    "    print( hour_into_time_of_the_day(16) ) # expected 'afternoon'\n",
    "    print( hour_into_time_of_the_day(17) ) # expected 'evening'\n",
    "    print( hour_into_time_of_the_day(18) ) # expected 'evening'\n",
    "    print( hour_into_time_of_the_day(23) ) # expected 'evening'\n",
    "    \n",
    "    \n",
    "    def greeting_for(mood, time, name):\n",
    "        # ??? what will be here?\n",
    "    \n",
    "    print( greet_based_on_time(False, 5, \"Mia\") )  # expected 'Terrible morning, Mia'\n",
    "    print( greet_based_on_time(True, 11, \"Cera\"))  # expected 'Good morning, Cera'\n",
    "    print( greet_based_on_time(False, 12, \"Sara\")) # expected 'Terrible afternoon, Sara'\n",
    "    print( greet_based_on_time(True, 21, \"Minie\")) # expected 'Good evening, Minie'\n",
    "    \n",
    "    ### END SOLUTION\n",
    "    \n",
    "</details>"
   ]
  },
  {
   "cell_type": "markdown",
   "metadata": {},
   "source": [
    "<details><summary style='color:blue'>HINT 2: broken down functions? CLICK HERE TO SEE THE ANSWER. BUT REALLY TRY TO DO IT YOURSELF FIRST!</summary>\n",
    "\n",
    "    Here's some code to get you started, copy it into a code cell so that you can run and edit the code.\n",
    "    \n",
    "    ### BEGIN SOLUTION\n",
    "    \n",
    "    def mood_as_word(are_you_feeling_good):    \n",
    "        if are_you_feeling_good == True:\n",
    "            return \"Good\"\n",
    "        else:\n",
    "            return \"Terrible\"\n",
    "\n",
    "    print( mood_as_word(True) ) # expected 'Good'\n",
    "    print( mood_as_word(False) ) # expected 'Terrible'\n",
    "\n",
    "    ### \n",
    "\n",
    "    def hour_into_time_of_the_day(hour):    \n",
    "        if hour < 12:\n",
    "            return \"morning\"\n",
    "        elif hour < 17:\n",
    "            return \"afternoon\"\n",
    "        else:\n",
    "            return \"evening\"\n",
    "\n",
    "    print( hour_into_time_of_the_day(1) )  # expected 'morning'\n",
    "    print( hour_into_time_of_the_day(3) )  # expected 'morning'\n",
    "    print( hour_into_time_of_the_day(11) ) # expected 'morning'\n",
    "    print( hour_into_time_of_the_day(12) ) # expected 'afternoon'\n",
    "    print( hour_into_time_of_the_day(15) ) # expected 'afternoon'\n",
    "    print( hour_into_time_of_the_day(16) ) # expected 'afternoon'\n",
    "    print( hour_into_time_of_the_day(17) ) # expected 'evening'\n",
    "    print( hour_into_time_of_the_day(18) ) # expected 'evening'\n",
    "    print( hour_into_time_of_the_day(23) ) # expected 'evening'\n",
    "\n",
    "\n",
    "    # you could even do this:\n",
    "\n",
    "    def words_into_sentence(mood_word, time_word, name):\n",
    "        return mood_word + \" \" + time_word + \", \" + name\n",
    "\n",
    "    print( words_into_sentence('Terrible', 'morning', \"Mia\") )  # expected 'Terrible morning, Mia'\n",
    "    print( words_into_sentence('Good', 'morning', \"Cera\"))      # expected 'Good morning, Cera'\n",
    "    print( words_into_sentence('Terrible', 'afternoon', \"Sara\")) # expected 'Terrible afternoon, Sara'\n",
    "    print( words_into_sentence('Good', 'evening', \"Minie\")) # expected 'Good evening, Minie'\n",
    "\n",
    "    ### END SOLUTION\n",
    "    \n",
    "</details>"
   ]
  },
  {
   "cell_type": "markdown",
   "metadata": {},
   "source": [
    "<details><summary style='color:blue'>HINT 3: combining it together into greet_based_on_time CLICK HERE TO SEE THE ANSWER. BUT REALLY TRY TO DO IT YOURSELF FIRST!</summary>\n",
    "\n",
    "    Here's some code to get you started, copy it into a code cell so that you can run and edit the code.\n",
    "    \n",
    "    ### BEGIN SOLUTION\n",
    "    \n",
    "    def greet_based_on_time(feeling_good, hour, name):    \n",
    "        mood_greeting =  mood_as_word(feeling_good)\n",
    "        time_of_the_day =  hour_into_time_of_the_day(hour)\n",
    "        full_greeting =  words_into_sentence(mood_greeting, time_of_the_day, name)\n",
    "        return full_greeting\n",
    "\n",
    "    print( greet_based_on_time(False, 5, \"Mia\") )  # expected 'Terrible morning, Mia'\n",
    "    print( greet_based_on_time(True, 11, \"Cera\"))  # expected 'Good morning, Cera'\n",
    "    print( greet_based_on_time(False, 12, \"Sara\")) # expected 'Terrible afternoon, Sara'\n",
    "    print( greet_based_on_time(True, 21, \"Minie\")) # expected 'Good evening, Minie'\n",
    "\n",
    "    # This could also be, but it starts looking like spaghetti or tangled earphones 🤔\n",
    "\n",
    "    def greet_based_on_time(feeling_good, hour, name):    \n",
    "        return words_into_sentence(  mood_as_word(feeling_good), hour_into_time_of_the_day(hour), name)\n",
    "\n",
    "    print( greet_based_on_time(True, 11, \"Cera\"))  # expected 'Good morning, Cera'\n",
    "    \n",
    "  ### END SOLUTION\n",
    "    \n",
    "</details>"
   ]
  }
 ],
 "metadata": {
  "kernelspec": {
   "display_name": "Python 3 (ipykernel)",
   "language": "python",
   "name": "python3"
  },
  "language_info": {
   "codemirror_mode": {
    "name": "ipython",
    "version": 3
   },
   "file_extension": ".py",
   "mimetype": "text/x-python",
   "name": "python",
   "nbconvert_exporter": "python",
   "pygments_lexer": "ipython3",
   "version": "3.9.13"
  }
 },
 "nbformat": 4,
 "nbformat_minor": 2
}
